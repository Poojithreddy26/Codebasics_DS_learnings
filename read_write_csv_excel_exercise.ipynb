{
 "cells": [
  {
   "cell_type": "markdown",
   "metadata": {},
   "source": [
    "## <font color=\"maroon\"><h4 align=\"center\">Read/Write CSV and Excel Files (Exercise)</font>"
   ]
  },
  {
   "cell_type": "code",
   "execution_count": 1,
   "metadata": {},
   "outputs": [],
   "source": [
    "import pandas as pd"
   ]
  },
  {
   "cell_type": "markdown",
   "metadata": {},
   "source": [
    "### <font color=\"purple\">**Question1**</font>\n",
    "- Read the csv file with name \"movies_data.csv\"\n",
    "- Show the Top5 rows"
   ]
  },
  {
   "cell_type": "code",
   "execution_count": 2,
   "metadata": {},
   "outputs": [
    {
     "data": {
      "text/html": [
       "<div>\n",
       "<style scoped>\n",
       "    .dataframe tbody tr th:only-of-type {\n",
       "        vertical-align: middle;\n",
       "    }\n",
       "\n",
       "    .dataframe tbody tr th {\n",
       "        vertical-align: top;\n",
       "    }\n",
       "\n",
       "    .dataframe thead th {\n",
       "        text-align: right;\n",
       "    }\n",
       "</style>\n",
       "<table border=\"1\" class=\"dataframe\">\n",
       "  <thead>\n",
       "    <tr style=\"text-align: right;\">\n",
       "      <th></th>\n",
       "      <th>movie_id</th>\n",
       "      <th>title</th>\n",
       "      <th>industry</th>\n",
       "      <th>language</th>\n",
       "      <th>release_year</th>\n",
       "      <th>imdb_rating</th>\n",
       "      <th>studio</th>\n",
       "      <th>budget</th>\n",
       "      <th>revenue</th>\n",
       "      <th>unit</th>\n",
       "      <th>currency</th>\n",
       "    </tr>\n",
       "  </thead>\n",
       "  <tbody>\n",
       "    <tr>\n",
       "      <th>0</th>\n",
       "      <td>101</td>\n",
       "      <td>K.G.F: Chapter 2</td>\n",
       "      <td>Bollywood</td>\n",
       "      <td>Kannada</td>\n",
       "      <td>2022</td>\n",
       "      <td>8.4</td>\n",
       "      <td>Hombale Films</td>\n",
       "      <td>1.0</td>\n",
       "      <td>12.5</td>\n",
       "      <td>Billions</td>\n",
       "      <td>INR</td>\n",
       "    </tr>\n",
       "    <tr>\n",
       "      <th>1</th>\n",
       "      <td>102</td>\n",
       "      <td>Doctor Strange in the Multiverse of Madness</td>\n",
       "      <td>Hollywood</td>\n",
       "      <td>English</td>\n",
       "      <td>2022</td>\n",
       "      <td>7.0</td>\n",
       "      <td>Marvel Studios</td>\n",
       "      <td>200.0</td>\n",
       "      <td>954.8</td>\n",
       "      <td>Millions</td>\n",
       "      <td>USD</td>\n",
       "    </tr>\n",
       "    <tr>\n",
       "      <th>2</th>\n",
       "      <td>103</td>\n",
       "      <td>Thor: The Dark World</td>\n",
       "      <td>Hollywood</td>\n",
       "      <td>English</td>\n",
       "      <td>2013</td>\n",
       "      <td>6.8</td>\n",
       "      <td>Marvel Studios</td>\n",
       "      <td>165.0</td>\n",
       "      <td>644.8</td>\n",
       "      <td>Millions</td>\n",
       "      <td>USD</td>\n",
       "    </tr>\n",
       "    <tr>\n",
       "      <th>3</th>\n",
       "      <td>104</td>\n",
       "      <td>Thor: Ragnarok</td>\n",
       "      <td>Hollywood</td>\n",
       "      <td>English</td>\n",
       "      <td>2017</td>\n",
       "      <td>7.9</td>\n",
       "      <td>Marvel Studios</td>\n",
       "      <td>180.0</td>\n",
       "      <td>854.0</td>\n",
       "      <td>Millions</td>\n",
       "      <td>USD</td>\n",
       "    </tr>\n",
       "    <tr>\n",
       "      <th>4</th>\n",
       "      <td>105</td>\n",
       "      <td>Thor: Love and Thunder</td>\n",
       "      <td>Hollywood</td>\n",
       "      <td>English</td>\n",
       "      <td>2022</td>\n",
       "      <td>6.8</td>\n",
       "      <td>Marvel Studios</td>\n",
       "      <td>250.0</td>\n",
       "      <td>670.0</td>\n",
       "      <td>Millions</td>\n",
       "      <td>USD</td>\n",
       "    </tr>\n",
       "  </tbody>\n",
       "</table>\n",
       "</div>"
      ],
      "text/plain": [
       "   movie_id                                        title   industry language  \\\n",
       "0       101                             K.G.F: Chapter 2  Bollywood  Kannada   \n",
       "1       102  Doctor Strange in the Multiverse of Madness  Hollywood  English   \n",
       "2       103                        Thor: The Dark World   Hollywood  English   \n",
       "3       104                              Thor: Ragnarok   Hollywood  English   \n",
       "4       105                      Thor: Love and Thunder   Hollywood  English   \n",
       "\n",
       "   release_year  imdb_rating          studio  budget  revenue      unit  \\\n",
       "0          2022          8.4   Hombale Films     1.0     12.5  Billions   \n",
       "1          2022          7.0  Marvel Studios   200.0    954.8  Millions   \n",
       "2          2013          6.8  Marvel Studios   165.0    644.8  Millions   \n",
       "3          2017          7.9  Marvel Studios   180.0    854.0  Millions   \n",
       "4          2022          6.8  Marvel Studios   250.0    670.0  Millions   \n",
       "\n",
       "  currency  \n",
       "0      INR  \n",
       "1      USD  \n",
       "2      USD  \n",
       "3      USD  \n",
       "4      USD  "
      ]
     },
     "execution_count": 2,
     "metadata": {},
     "output_type": "execute_result"
    }
   ],
   "source": [
    "#read the csv file into the variable 'df'\n",
    "df = pd.read_csv(\"movies_data.csv\")\n",
    "\n",
    "#show the top 5 rows\n",
    "df.head()"
   ]
  },
  {
   "cell_type": "markdown",
   "metadata": {},
   "source": [
    "### <font color=\"purple\">**Question2**</font>\n",
    "- Add a new column \"year_classify\" to the above dataframe.\n",
    "- If release_year is less than 2000, then 'before 2000' or else 'From 2000'"
   ]
  },
  {
   "cell_type": "code",
   "execution_count": 4,
   "metadata": {},
   "outputs": [],
   "source": [
    "#add the column \"year_classify\"\n",
    "df['year_classify'] = df.release_year.apply(lambda x:'before 2000' if x < 2000 else 'From 2000')\n",
    "#show the df\n",
    "df.head()"
   ]
  },
  {
   "cell_type": "markdown",
   "metadata": {},
   "source": [
    "### <font color=\"purple\">**Question3**</font>\n",
    "\n",
    "- Save the above dataframe with the name \"final_movie_data.csv\" and include only columns 'movie_id', 'title', 'budget', 'revenue' and 'year_classify'. Also set index to False**."
   ]
  },
  {
   "cell_type": "code",
   "execution_count": 3,
   "metadata": {},
   "outputs": [
    {
     "name": "stderr",
     "output_type": "stream",
     "text": [
      "C:\\Users\\ntuse\\Anaconda3\\lib\\site-packages\\pandas\\core\\indexing.py:1494: FutureWarning: \n",
      "Passing list-likes to .loc or [] with any missing label will raise\n",
      "KeyError in the future, you can use .reindex() as an alternative.\n",
      "\n",
      "See the documentation here:\n",
      "https://pandas.pydata.org/pandas-docs/stable/indexing.html#deprecate-loc-reindex-listlike\n",
      "  return self._getitem_tuple(key)\n"
     ]
    }
   ],
   "source": [
    "#save the dataframe\n",
    "df.to_csv(\"final_movie_data.csv\", columns = ['title','budget','revenue','year_classify'], index = False)"
   ]
  },
  {
   "cell_type": "code",
   "execution_count": null,
   "metadata": {},
   "outputs": [],
   "source": []
  }
 ],
 "metadata": {
  "kernelspec": {
   "display_name": "Python 3",
   "language": "python",
   "name": "python3"
  },
  "language_info": {
   "codemirror_mode": {
    "name": "ipython",
    "version": 3
   },
   "file_extension": ".py",
   "mimetype": "text/x-python",
   "name": "python",
   "nbconvert_exporter": "python",
   "pygments_lexer": "ipython3",
   "version": "3.7.3"
  }
 },
 "nbformat": 4,
 "nbformat_minor": 5
}
