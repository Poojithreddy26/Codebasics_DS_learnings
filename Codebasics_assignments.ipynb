{
 "cells": [
  {
   "cell_type": "code",
   "execution_count": 1,
   "metadata": {},
   "outputs": [
    {
     "ename": "SyntaxError",
     "evalue": "invalid syntax (<ipython-input-1-fb607fdcc521>, line 3)",
     "output_type": "error",
     "traceback": [
      "\u001b[1;36m  File \u001b[1;32m\"<ipython-input-1-fb607fdcc521>\"\u001b[1;36m, line \u001b[1;32m3\u001b[0m\n\u001b[1;33m    break=5\u001b[0m\n\u001b[1;37m         ^\u001b[0m\n\u001b[1;31mSyntaxError\u001b[0m\u001b[1;31m:\u001b[0m invalid syntax\n"
     ]
    }
   ],
   "source": [
    "#1. Create a variable called break and assign it a value 5. See what happens and find out the reason behind the behavior that you see\n",
    "\n",
    "break=5    #will lead to a syntax error as we have a keyword called break in python."
   ]
  },
  {
   "cell_type": "code",
   "execution_count": 2,
   "metadata": {},
   "outputs": [
    {
     "name": "stdout",
     "output_type": "stream",
     "text": [
      "24\n"
     ]
    }
   ],
   "source": [
    "#2. Create two variables. One to store your birth year and another one to store current year. Now calculate your age using these two variables\n",
    "b_year=1999\n",
    "c_year=2023\n",
    "age=c_year-b_year\n",
    "print(age)"
   ]
  },
  {
   "cell_type": "code",
   "execution_count": 6,
   "metadata": {},
   "outputs": [
    {
     "name": "stdout",
     "output_type": "stream",
     "text": [
      "NGR Poojith venkat reddy\n"
     ]
    }
   ],
   "source": [
    "#3. Store your first, middle and last name in three different variables and then print your full name using these variables\n",
    "first_name = \"Poojith venkat\"\n",
    "middle_name = \"reddy\"\n",
    "last_name = \"NGR\"\n",
    "full_name=last_name+\" \"+first_name+\" \"+middle_name\n",
    "print(full_name)"
   ]
  },
  {
   "cell_type": "code",
   "execution_count": 9,
   "metadata": {},
   "outputs": [],
   "source": [
    "#4. Answer which of these are invalid variable names: \"_nation, 1record, record1, record_one, record-one, record^one, continue\"\n",
    "\n",
    "\n",
    "#ANS:-\n",
    "\n",
    "#1record,record-one, record^one, continue"
   ]
  },
  {
   "cell_type": "code",
   "execution_count": 10,
   "metadata": {},
   "outputs": [],
   "source": [
    "### Exercise: Numbers in python\n",
    "# 1. You have a football field that is 92 meter long and 48.8 meter wide. Find out total\n",
    "# area using python and print it.\n",
    "# 2. You bought 9 packets of potato chips from a store. Each packet costs 1.49 dollar\n",
    "# and you gave shopkeeper 20 dollar. Find out using python, how many dollars is the shopkeeper going to give you back?\n",
    "# 3. You want to replace tiles in your bathroom which is exactly square and 5.5 feet\n",
    "# is its length. If tiles cost 500 rs per square feet, how much will be the total\n",
    "# cost to replace all tiles. Calculate and print the cost using python\n",
    "# (Hint: Use power operator ** to find area of a square)\n",
    "# 4. Print binary representation of number 17\n",
    "\n"
   ]
  },
  {
   "cell_type": "code",
   "execution_count": 11,
   "metadata": {},
   "outputs": [
    {
     "name": "stdout",
     "output_type": "stream",
     "text": [
      "4489.599999999999\n"
     ]
    }
   ],
   "source": [
    "#1.\n",
    "ft_length=92.0\n",
    "ft_width=48.8\n",
    "total_area_of_football_field=ft_length*ft_width\n",
    "print(total_area_of_football_field)"
   ]
  },
  {
   "cell_type": "code",
   "execution_count": 13,
   "metadata": {},
   "outputs": [
    {
     "name": "stdout",
     "output_type": "stream",
     "text": [
      "Amount to be returned 6.59\n"
     ]
    }
   ],
   "source": [
    "#2.\n",
    "Price_of_packet=1.49\n",
    "number_of_packets=9\n",
    "total_price=number_of_packets*Price_of_packet\n",
    "remaining_amount=20-total_price\n",
    "print(\"Amount to be returned \"+str(remaining_amount))"
   ]
  },
  {
   "cell_type": "code",
   "execution_count": 14,
   "metadata": {},
   "outputs": [
    {
     "name": "stdout",
     "output_type": "stream",
     "text": [
      "15125.0\n"
     ]
    }
   ],
   "source": [
    "#3.\n",
    "area=5.5*5.5\n",
    "cost=area*500\n",
    "print(cost)"
   ]
  },
  {
   "cell_type": "code",
   "execution_count": 16,
   "metadata": {},
   "outputs": [
    {
     "name": "stdout",
     "output_type": "stream",
     "text": [
      "0b10001\n",
      "Binary representation of 17:- 10001\n"
     ]
    }
   ],
   "source": [
    "#4.\n",
    "num=17\n",
    "print(bin(num))\n",
    "print(\"Binary representation of 17:-\",format(num,\"b\"))"
   ]
  },
  {
   "cell_type": "code",
   "execution_count": 17,
   "metadata": {},
   "outputs": [],
   "source": [
    "### Exercise: String in Python\n",
    "\n",
    "# 1. Create 3 variables to store street, city and country, now create address variable to\n",
    "# store entire address. Use two ways of creating this variable, one using + operator and the other using f-string.\n",
    "# Now Print the address in such a way that the street, city and country prints in a separate line\n",
    "# 2. Create a variable to store the string \"Earth revolves around the sun\"\n",
    "#     1. Print \"revolves\" using slice operator\n",
    "#     2. Print \"sun\" using negative index\n",
    "# 3. Create two variables to store how many fruits and vegetables you eat in a day.\n",
    "# Now Print \"I eat x veggies and y fruits daily\" where x and y presents vegetables and fruits that you eat everyday. Use python f string for this.\n",
    "# 4. I have a string variable called s='maine 200 banana khaye'. This of course is a\n",
    "# wrong statement, the correct statement is 'maine 10 samosa khaye'.\n",
    "# Replace incorrect words in original strong with new ones and print the new string.\n",
    "# Also try to do this in one line.\n",
    "\n"
   ]
  },
  {
   "cell_type": "code",
   "execution_count": 18,
   "metadata": {},
   "outputs": [
    {
     "name": "stdout",
     "output_type": "stream",
     "text": [
      "31-245,kothaindlu \n",
      " , Punganur\n",
      " , India\n"
     ]
    }
   ],
   "source": [
    "#1.\n",
    "street = \"31-245,kothaindlu\"\n",
    "city = \"Punganur\"\n",
    "country = \"India\"\n",
    "address = street+city+country\n",
    "f_address = f'{street} , {city} , {country}'\n",
    "print(f'{street} \\n , {city}\\n , {country}')"
   ]
  },
  {
   "cell_type": "code",
   "execution_count": 24,
   "metadata": {},
   "outputs": [
    {
     "name": "stdout",
     "output_type": "stream",
     "text": [
      "revolves\n",
      "sun\n"
     ]
    }
   ],
   "source": [
    "#2.\n",
    "statement = \"Earth revolves around the sun\"\n",
    "#1. Print \"revolves\" using slice operator\n",
    "print(statement[6:14])\n",
    "#     2. Print \"sun\" using negative index\n",
    "print(statement.split()[-1])"
   ]
  },
  {
   "cell_type": "code",
   "execution_count": 25,
   "metadata": {},
   "outputs": [
    {
     "name": "stdout",
     "output_type": "stream",
     "text": [
      "I eat 15 veggies and 5 fruits daily\n"
     ]
    }
   ],
   "source": [
    "#3.\n",
    "num_of_fruits = 5\n",
    "num_of_vegetables = 15\n",
    "print(f\"I eat {num_of_vegetables} veggies and {num_of_fruits} fruits daily\")\n"
   ]
  },
  {
   "cell_type": "code",
   "execution_count": 26,
   "metadata": {},
   "outputs": [
    {
     "name": "stdout",
     "output_type": "stream",
     "text": [
      "maine 10 samosa khaye\n"
     ]
    }
   ],
   "source": [
    "#4.\n",
    "s='maine 200 banana khaye'\n",
    "print(s.replace('200 banana','10 samosa'))\n",
    "#original solution:- s=s.replace('banana','samosa').replace('200','10')"
   ]
  },
  {
   "cell_type": "code",
   "execution_count": 27,
   "metadata": {},
   "outputs": [],
   "source": [
    "# ## Exercise: Python Lists\n",
    "# 1. Let us say your expense for every month are listed below,\n",
    "# \t1. January -  2200\n",
    "#  \t2. February - 2350\n",
    "#     3. March - 2600\n",
    "#     4. April - 2130\n",
    "#     5. May - 2190\n",
    "\n",
    "# Create a list to store these monthly expenses and using that find out,\n",
    "\n",
    "#     1. In Feb, how many dollars you spent extra compare to January?\n",
    "#     2. Find out your total expense in first quarter (first three months) of the year.\n",
    "#     3. Find out if you spent exactly 2000 dollars in any month\n",
    "#     4. June month just finished and your expense is 1980 dollar. Add this item to our monthly expense list\n",
    "#     5. You returned an item that you bought in a month of April and\n",
    "#     got a refund of 200$. Make a correction to your monthly expense list\n",
    "#     based on this\n",
    "\n",
    "# 2. You have a list of your favourite marvel super heros.\n",
    "# ```\n",
    "# heros=['spider man','thor','hulk','iron man','captain america']\n",
    "# ```\n",
    "\n",
    "# Using this find out,\n",
    "\n",
    "#     1. Length of the list\n",
    "#     2. Add 'black panther' at the end of this list\n",
    "#     3. You realize that you need to add 'black panther' after 'hulk',\n",
    "#        so remove it from the list first and then add it after 'hulk'\n",
    "#     4. Now you don't like thor and hulk because they get angry easily :)\n",
    "#        So you want to remove thor and hulk from list and replace them with doctor strange (because he is cool).\n",
    "#        Do that with one line of code.\n",
    "#     5. Sort the heros list in alphabetical order (Hint. Use dir() functions to list down all functions available in list)\n",
    "\n",
    "\n",
    "\n",
    "\n",
    "\n",
    "\n"
   ]
  },
  {
   "cell_type": "code",
   "execution_count": 44,
   "metadata": {},
   "outputs": [
    {
     "name": "stdout",
     "output_type": "stream",
     "text": [
      "Dollars spent extra in feb than in jan 150\n",
      "Total expenses in first quarter :7150\n",
      "no\n"
     ]
    }
   ],
   "source": [
    "#1.\n",
    "January = 2200\n",
    "February = 2350\n",
    "March = 2600\n",
    "April = 2130\n",
    "May = 2190\n",
    "June=1980\n",
    "expenses = [2200,2350,2600,2130,2190]\n",
    "print(f'Dollars spent extra in feb than in jan {expenses[1]-expenses[0]}')\n",
    "print(f'Total expenses in first quarter :{sum(expenses[:3])}')\n",
    "print(\"yes\" if 2000 in expenses else \"no\")\n",
    "expenses.append(June)\n",
    "expenses[-3]=expenses[-3]-200\n"
   ]
  },
  {
   "cell_type": "code",
   "execution_count": 8,
   "metadata": {},
   "outputs": [
    {
     "name": "stdout",
     "output_type": "stream",
     "text": [
      "5\n",
      "['black panther', 'captain america', 'doctor strange', 'iron man', 'spider man']\n"
     ]
    }
   ],
   "source": [
    "#2.\n",
    "heros=['spider man','thor','hulk','iron man','captain america']\n",
    "print(len(heros))\n",
    "heros.append(\"black panther\")\n",
    "heros.remove(\"black panther\")\n",
    "\n",
    "heros.insert(3,\"black panther\")\n",
    "\n",
    "heros.remove(\"hulk\")\n",
    "heros\n",
    "\n",
    "heros.remove(\"thor\")\n",
    "heros.insert(1,\"doctor strange\")\n",
    "heros.sort()\n",
    "print(heros)"
   ]
  },
  {
   "cell_type": "code",
   "execution_count": 35,
   "metadata": {},
   "outputs": [
    {
     "data": {
      "text/plain": [
       "['__add__',\n",
       " '__class__',\n",
       " '__contains__',\n",
       " '__delattr__',\n",
       " '__delitem__',\n",
       " '__dir__',\n",
       " '__doc__',\n",
       " '__eq__',\n",
       " '__format__',\n",
       " '__ge__',\n",
       " '__getattribute__',\n",
       " '__getitem__',\n",
       " '__gt__',\n",
       " '__hash__',\n",
       " '__iadd__',\n",
       " '__imul__',\n",
       " '__init__',\n",
       " '__init_subclass__',\n",
       " '__iter__',\n",
       " '__le__',\n",
       " '__len__',\n",
       " '__lt__',\n",
       " '__mul__',\n",
       " '__ne__',\n",
       " '__new__',\n",
       " '__reduce__',\n",
       " '__reduce_ex__',\n",
       " '__repr__',\n",
       " '__reversed__',\n",
       " '__rmul__',\n",
       " '__setattr__',\n",
       " '__setitem__',\n",
       " '__sizeof__',\n",
       " '__str__',\n",
       " '__subclasshook__',\n",
       " 'append',\n",
       " 'clear',\n",
       " 'copy',\n",
       " 'count',\n",
       " 'extend',\n",
       " 'index',\n",
       " 'insert',\n",
       " 'pop',\n",
       " 'remove',\n",
       " 'reverse',\n",
       " 'sort']"
      ]
     },
     "execution_count": 35,
     "metadata": {},
     "output_type": "execute_result"
    }
   ],
   "source": [
    "dir(list)"
   ]
  },
  {
   "cell_type": "code",
   "execution_count": 9,
   "metadata": {},
   "outputs": [],
   "source": [
    "# ## Exercise: Python If Condition\n",
    "# 1. Using following list of cities per country,\n",
    "#     ```\n",
    "#     india = [\"mumbai\", \"banglore\", \"chennai\", \"delhi\"]\n",
    "#     pakistan = [\"lahore\",\"karachi\",\"islamabad\"]\n",
    "#     bangladesh = [\"dhaka\", \"khulna\", \"rangpur\"]\n",
    "#     ```\n",
    "#     1. Write a program that asks user to enter a city name and it should tell which country the city belongs to\n",
    "#     2. Write a program that asks user to enter two cities and it tells you if they both are in same country or not. For example if I enter mumbai and chennai, it will print \"Both cities are in India\" but if I enter mumbai and dhaka it should print \"They don't belong to same country\"\n",
    "# 2. Write a python program that can tell you if your sugar is normal or not. Normal fasting level sugar range is 80 to 100.\n",
    "#     1. Ask user to enter his fasting sugar level\n",
    "#     2. If it is below 80 to 100 range then print that sugar is low\n",
    "#     3. If it is above 100 then print that it is high otherwise print that it is normal\n",
    "\n"
   ]
  },
  {
   "cell_type": "code",
   "execution_count": 16,
   "metadata": {},
   "outputs": [
    {
     "name": "stdout",
     "output_type": "stream",
     "text": [
      "enter the city name:mumbai\n",
      "this city mumbai belongs to india\n",
      "Enter the cities:mumbai islamabad\n",
      "Both does not belong to same country\n"
     ]
    }
   ],
   "source": [
    "#1\n",
    "india = [\"mumbai\", \"banglore\", \"chennai\", \"delhi\"]\n",
    "pakistan = [\"lahore\",\"karachi\",\"islamabad\"]\n",
    "bangladesh = [\"dhaka\", \"khulna\", \"rangpur\"]\n",
    "\n",
    "city =input(\"enter the city name:\")\n",
    "if city in india:\n",
    "    print(f'this city {city} belongs to india')\n",
    "elif city in pakisthan:\n",
    "    print(f'this city {city} belongs to pakisthan')\n",
    "elif city in bangladesh:\n",
    "    print(f'this city {city} belongs to bangladesh')\n",
    "else:\n",
    "    print('the city u mentioned does not belong to india or bangladesh or pakisthan.')\n",
    "    \n",
    "cities =(input(\"Enter the cities:\")).split()\n",
    "\n",
    "\n",
    "if cities[0] in india:\n",
    "    if cities[1] in india:\n",
    "        print(\"Both belong to same country\")\n",
    "    else:\n",
    "        print(\"Both does not belong to same country\")\n",
    "elif cities[0] in pakistan:\n",
    "    if cities[1] in pakistan:\n",
    "        print(\"Both belong to same country\")\n",
    "    else:\n",
    "        print(\"Both does not belong to same country\")\n",
    "elif cities[0] in bangladesh:\n",
    "    if cities[1] in bangladesh:\n",
    "        print(\"Both belong to same country\")\n",
    "    else:\n",
    "        print(\"Both does not belong to same country\")\n",
    "else:\n",
    "    print(\"the cities you mentioned does not belong to india,bangladesh,pakisthan\")"
   ]
  },
  {
   "cell_type": "code",
   "execution_count": 17,
   "metadata": {},
   "outputs": [
    {
     "name": "stdout",
     "output_type": "stream",
     "text": [
      "Please enter sugar fasting level:99\n",
      "you are in range\n"
     ]
    }
   ],
   "source": [
    "#2\n",
    "\n",
    "sugar_fast_level = int(input(\"Please enter sugar fasting level:\"))\n",
    "if sugar_fast_level >= 80 and sugar_fast_level <=100 :\n",
    "    print(\"you are in range\")\n",
    "elif sugar_fast_level <80 :\n",
    "    print(\"low fast_sugar_levels\")\n",
    "else:\n",
    "    print(\"higher sugar levels\")"
   ]
  },
  {
   "cell_type": "code",
   "execution_count": 19,
   "metadata": {},
   "outputs": [],
   "source": [
    "# ## Exercise: Python for loop\n",
    "# 1. After flipping a coin 10 times you got this result,\n",
    "# ```\n",
    "# result = [\"heads\",\"tails\",\"tails\",\"heads\",\"tails\",\"heads\",\"heads\",\"tails\",\"tails\",\"tails\"]\n",
    "# ```\n",
    "# Using for loop figure out how many times you got heads\n",
    "\n",
    "# 2. Print square of all numbers between 1 to 10 except even numbers\n",
    "# 3. Your monthly expense list (from Jan to May) looks like this,\n",
    "# ```\n",
    "# expense_list = [2340, 2500, 2100, 3100, 2980]\n",
    "# ```\n",
    "# Write a program that asks you to enter an expense amount and program\n",
    "# should tell you in which month that expense occurred. If expense is not\n",
    "# found then it should print that as well.\n",
    "\n",
    "# 4. Lets say you are running a 5 km race. Write a program that,\n",
    "#    1. Upon completing each 1 km asks you \"are you tired?\"\n",
    "#    2. If you reply \"yes\" then it should break and print \"you didn't finish the race\"\n",
    "#    3. If you reply \"no\" then it should continue and ask \"are you tired\" on every km\n",
    "#    4. If you finish all 5 km then it should print congratulations message\n",
    "\n",
    "# 5. Write a program that prints following shape\n",
    "# ```\n",
    "# *\n",
    "# **\n",
    "# ***\n",
    "# ****\n",
    "# *****\n",
    "# ```\n",
    "\n"
   ]
  },
  {
   "cell_type": "code",
   "execution_count": 20,
   "metadata": {},
   "outputs": [
    {
     "name": "stdout",
     "output_type": "stream",
     "text": [
      "the number of times the coin flipped is 4\n"
     ]
    }
   ],
   "source": [
    "#1\n",
    "result = [\"heads\",\"tails\",\"tails\",\"heads\",\"tails\",\"heads\",\"heads\",\"tails\",\"tails\",\"tails\"]\n",
    "#Using for loop figure out how many times you got heads\n",
    "cou = 0\n",
    "for i in result:\n",
    "    if i == \"heads\":\n",
    "        cou+=1\n",
    "print(f'the number of times the coin flipped is {cou}')\n",
    "    "
   ]
  },
  {
   "cell_type": "code",
   "execution_count": 24,
   "metadata": {},
   "outputs": [
    {
     "name": "stdout",
     "output_type": "stream",
     "text": [
      "1\n",
      "9\n",
      "25\n",
      "49\n",
      "81\n"
     ]
    }
   ],
   "source": [
    "#2\n",
    "# Print square of all numbers between 1 to 10 except even numbers\n",
    "for i in range(1,11,2):\n",
    "    print(pow(i,2))"
   ]
  },
  {
   "cell_type": "code",
   "execution_count": 29,
   "metadata": {},
   "outputs": [
    {
     "name": "stdout",
     "output_type": "stream",
     "text": [
      "enter the expense amount:2980\n",
      "month of the expenses given is april\n"
     ]
    }
   ],
   "source": [
    "#3\n",
    "expense_list = [2340, 2500, 2100, 3100, 2980]\n",
    "# Write a program that asks you to enter an expense amount and program\n",
    "# should tell you in which month that expense occurred. If expense is not\n",
    "# found then it should print that as well.\n",
    "\n",
    "month_list ={1:\"jan\",2:\"feb\",3:\"march\",4:\"april\",5:\"may\"}\n",
    "exp_amount = int(input(\"enter the expense amount:\"))\n",
    "if exp_amount in expense_list:\n",
    "    print(f'month of the expenses given is {month_list[expense_list.index(exp_amount)]}')\n",
    "else:\n",
    "    print(\"Expenses specified does not match any month\")\n"
   ]
  },
  {
   "cell_type": "code",
   "execution_count": 30,
   "metadata": {},
   "outputs": [],
   "source": [
    "# 4. Lets say you are running a 5 km race. Write a program that,\n",
    "#    1. Upon completing each 1 km asks you \"are you tired?\"\n",
    "#    2. If you reply \"yes\" then it should break and print \"you didn't finish the race\"\n",
    "#    3. If you reply \"no\" then it should continue and ask \"are you tired\" on "
   ]
  },
  {
   "cell_type": "code",
   "execution_count": 32,
   "metadata": {},
   "outputs": [
    {
     "name": "stdout",
     "output_type": "stream",
     "text": [
      "completed 1 km\n",
      "are you tired?no\n",
      "completed 2 km\n",
      "are you tired?no\n",
      "completed 3 km\n",
      "are you tired?no\n",
      "completed 4 km\n",
      "are you tired?no\n",
      "completed 5 km\n",
      "completed race\n"
     ]
    }
   ],
   "source": [
    "for i in range(1,6):\n",
    "    print(f\"completed {i} km\")\n",
    "    if i==5:\n",
    "        print(\"completed race\")\n",
    "        break\n",
    "    res=input(\"are you tired?\")\n",
    "    if res.lower() ==\"yes\" or res.lower()==\"y\":\n",
    "        print(\"you didn't finish the race.\")\n",
    "    "
   ]
  },
  {
   "cell_type": "code",
   "execution_count": 33,
   "metadata": {},
   "outputs": [
    {
     "name": "stdout",
     "output_type": "stream",
     "text": [
      "*\n",
      "**\n",
      "***\n",
      "****\n",
      "*****\n"
     ]
    }
   ],
   "source": [
    "# 5. Write a program that prints following shape\n",
    "# ```\n",
    "# *\n",
    "# **\n",
    "# ***\n",
    "# ****\n",
    "# *****\n",
    "# ```\n",
    "\n",
    "for i in range(1,6):\n",
    "    print(\"*\"*i)"
   ]
  },
  {
   "cell_type": "code",
   "execution_count": 34,
   "metadata": {},
   "outputs": [],
   "source": [
    "# # Exercise: Functions in python\n",
    "# 1. Write a function called calculate_area that takes base and height as an input and returns and area of a triangle. Equation of an area of a triangle is,\n",
    "# ```\n",
    "# area = (1/2)*base*height\n",
    "# ```\n",
    "\n",
    "# 2. Modify above function to take third parameter shape type. It can be either \"triangle\" or \"rectangle\". Based on shape type it will calculate area. Equation of rectangle's area is,\n",
    "# ```\n",
    "# rectangle area=length*width\n",
    "# ```\n",
    "# If no shape is supplied then it should take triangle as a default shape\n",
    "\n",
    "# 3. Write a function called print_pattern that takes integer number as an argument and prints following pattern if input number is 3,\n",
    "# ```\n",
    "# *\n",
    "# **\n",
    "# ***\n",
    "# ```\n",
    "# if input is 4 then it should print\n",
    "# ```\n",
    "# *\n",
    "# **\n",
    "# ***\n",
    "# ****\n",
    "# ```\n",
    "# Basically number of lines it prints is equal to that number. (Hint: you need to use two for loops)\n"
   ]
  },
  {
   "cell_type": "code",
   "execution_count": 37,
   "metadata": {},
   "outputs": [
    {
     "name": "stdout",
     "output_type": "stream",
     "text": [
      "17.5\n"
     ]
    }
   ],
   "source": [
    "#1,2\n",
    "def area_of_triangle(base,height,shape=None):\n",
    "    if shape == \"rectangle\":\n",
    "        return base*height\n",
    "    elif shape == \"triangle\":\n",
    "        return (1/2)*base*height\n",
    "    else:\n",
    "        print(\"shape not rectangle nor triangle\")\n",
    "    return None\n",
    "    \n",
    "print(area_of_triangle(5,7))\n",
    "    "
   ]
  },
  {
   "cell_type": "code",
   "execution_count": 45,
   "metadata": {},
   "outputs": [
    {
     "name": "stdout",
     "output_type": "stream",
     "text": [
      "*\n",
      "**\n",
      "***\n",
      "****\n",
      "*****\n"
     ]
    }
   ],
   "source": [
    "#3\n",
    "def print_pattern(integer=3):\n",
    "    for i in range(1,integer+1):\n",
    "        print(\"*\"*i) \n",
    "    return None\n",
    "print_pattern(5)"
   ]
  },
  {
   "cell_type": "code",
   "execution_count": null,
   "metadata": {},
   "outputs": [],
   "source": []
  }
 ],
 "metadata": {
  "kernelspec": {
   "display_name": "Python 3",
   "language": "python",
   "name": "python3"
  },
  "language_info": {
   "codemirror_mode": {
    "name": "ipython",
    "version": 3
   },
   "file_extension": ".py",
   "mimetype": "text/x-python",
   "name": "python",
   "nbconvert_exporter": "python",
   "pygments_lexer": "ipython3",
   "version": "3.7.3"
  }
 },
 "nbformat": 4,
 "nbformat_minor": 2
}
