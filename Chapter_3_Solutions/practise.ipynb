{
 "cells": [
  {
   "cell_type": "code",
   "execution_count": 18,
   "metadata": {},
   "outputs": [
    {
     "name": "stdout",
     "output_type": "stream",
     "text": [
      "minimum,maximum and average rating in bollywood is : 1.9 8.4 7.656250000000001\n",
      "movie which recieved minimum rating in bollywood is : 31    Race 3\n",
      "Name: title, dtype: object\n",
      "movie which recieved maximum rating in bollywood is : 22            3 Idiots\n",
      "32           Shershaah\n",
      "33    K.G.F: Chapter 2\n",
      "Name: title, dtype: object\n",
      ">>>>>>>>>>>>>>>>>>>>>>>>>>>>>>>>>>>>>>>>>>>>>>>>>>>>>>>>>>>>>>>>\n",
      "minimum,maximum and average rating in hollywood is : 6.8 9.3 8.130000000000003\n",
      "movie which recieved minimum rating in hollywood is : 2      Thor: The Dark World \n",
      "4    Thor: Love and Thunder \n",
      "Name: title, dtype: object\n",
      "movie which recieved maximum rating in hollywood is : 5    The Shawshank Redemption\n",
      "Name: title, dtype: object\n"
     ]
    }
   ],
   "source": [
    "import pandas as pd\n",
    "df = pd.read_csv(\"movies.csv\")\n",
    "df.head()\n",
    "## bring out the average , minimum and maximum in imdb rating for bollywood and hollywood indiviaully\n",
    "\n",
    "#df.imdb_rating.min()\n",
    "df_b = df[df.industry == 'Bollywood']\n",
    "df_h = df[df.industry == 'Hollywood']\n",
    "\n",
    "print(\"minimum,maximum and average rating in bollywood is :\",df_b.imdb_rating.min(),df_b.imdb_rating.max(),df_b.imdb_rating.mean())\n",
    "print(\"movie which recieved minimum rating in bollywood is :\",df_b.title[df_b.imdb_rating == df_b.imdb_rating.min()])\n",
    "print(\"movie which recieved maximum rating in bollywood is :\",df_b.title[df_b.imdb_rating == df_b.imdb_rating.max()])\n",
    "print(\">>>>>>>>>>>>>>>>>>>>>>>>>>>>>>>>>>>>>>>>>>>>>>>>>>>>>>>>>>>>>>>>\")\n",
    "print(\"minimum,maximum and average rating in hollywood is :\",df_h.imdb_rating.min(),df_h.imdb_rating.max(),df_h.imdb_rating.mean())\n",
    "print(\"movie which recieved minimum rating in hollywood is :\",df_h.title[df_h.imdb_rating == df_h.imdb_rating.min()])\n",
    "print(\"movie which recieved maximum rating in hollywood is :\",df_h.title[df_h.imdb_rating == df_h.imdb_rating.max()])"
   ]
  },
  {
   "cell_type": "code",
   "execution_count": null,
   "metadata": {},
   "outputs": [],
   "source": []
  }
 ],
 "metadata": {
  "kernelspec": {
   "display_name": "Python 3",
   "language": "python",
   "name": "python3"
  },
  "language_info": {
   "codemirror_mode": {
    "name": "ipython",
    "version": 3
   },
   "file_extension": ".py",
   "mimetype": "text/x-python",
   "name": "python",
   "nbconvert_exporter": "python",
   "pygments_lexer": "ipython3",
   "version": "3.7.3"
  }
 },
 "nbformat": 4,
 "nbformat_minor": 2
}
