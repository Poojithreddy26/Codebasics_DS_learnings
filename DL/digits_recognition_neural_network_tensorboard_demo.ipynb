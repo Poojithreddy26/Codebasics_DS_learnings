{
 "cells": [
  {
   "cell_type": "markdown",
   "metadata": {},
   "source": [
    "<h2 style=\"color:blue\" align=\"center\">Tensorboard demo using handwritten digits classification using neural network</h2>"
   ]
  },
  {
   "cell_type": "markdown",
   "metadata": {},
   "source": [
    "In this notebook we will classify handwritten digits using a simple neural network which has only input and output layers. We will than add a hidden layer and see how the performance of the model improves"
   ]
  },
  {
   "cell_type": "code",
   "execution_count": 1,
   "metadata": {},
   "outputs": [],
   "source": [
    "import tensorflow as tf\n",
    "from tensorflow import keras\n",
    "import matplotlib.pyplot as plt\n",
    "%matplotlib inline\n",
    "import numpy as np"
   ]
  },
  {
   "cell_type": "code",
   "execution_count": 2,
   "metadata": {},
   "outputs": [],
   "source": [
    "(X_train, y_train) , (X_test, y_test) = keras.datasets.mnist.load_data()"
   ]
  },
  {
   "cell_type": "code",
   "execution_count": 3,
   "metadata": {},
   "outputs": [
    {
     "data": {
      "text/plain": [
       "60000"
      ]
     },
     "execution_count": 3,
     "metadata": {},
     "output_type": "execute_result"
    }
   ],
   "source": [
    "len(X_train)"
   ]
  },
  {
   "cell_type": "code",
   "execution_count": 4,
   "metadata": {},
   "outputs": [
    {
     "data": {
      "text/plain": [
       "10000"
      ]
     },
     "execution_count": 4,
     "metadata": {},
     "output_type": "execute_result"
    }
   ],
   "source": [
    "len(X_test)"
   ]
  },
  {
   "cell_type": "code",
   "execution_count": 5,
   "metadata": {},
   "outputs": [
    {
     "data": {
      "text/plain": [
       "(28, 28)"
      ]
     },
     "execution_count": 5,
     "metadata": {},
     "output_type": "execute_result"
    }
   ],
   "source": [
    "X_train[0].shape"
   ]
  },
  {
   "cell_type": "code",
   "execution_count": 6,
   "metadata": {},
   "outputs": [
    {
     "data": {
      "text/plain": [
       "<matplotlib.image.AxesImage at 0x1c8c3758290>"
      ]
     },
     "execution_count": 6,
     "metadata": {},
     "output_type": "execute_result"
    },
    {
     "data": {
      "image/png": "[encoded data removed]",
      "text/plain": [
       "<Figure size 480x480 with 1 Axes>"
      ]
     },
     "metadata": {},
     "output_type": "display_data"
    }
   ],
   "source": [
    "plt.matshow(X_train[0])"
   ]
  },
  {
   "cell_type": "code",
   "execution_count": 7,
   "metadata": {},
   "outputs": [
    {
     "data": {
      "text/plain": [
       "5"
      ]
     },
     "execution_count": 7,
     "metadata": {},
     "output_type": "execute_result"
    }
   ],
   "source": [
    "y_train[0]"
   ]
  },
  {
   "cell_type": "code",
   "execution_count": 8,
   "metadata": {},
   "outputs": [],
   "source": [
    "X_train = X_train / 255\n",
    "X_test = X_test / 255"
   ]
  },
  {
   "cell_type": "code",
   "execution_count": 9,
   "metadata": {},
   "outputs": [],
   "source": [
    "X_train_flattened = X_train.reshape(len(X_train), 28*28)\n",
    "X_test_flattened = X_test.reshape(len(X_test), 28*28)"
   ]
  },
  {
   "cell_type": "code",
   "execution_count": 10,
   "metadata": {},
   "outputs": [
    {
     "data": {
      "text/plain": [
       "(60000, 784)"
      ]
     },
     "execution_count": 10,
     "metadata": {},
     "output_type": "execute_result"
    }
   ],
   "source": [
    "X_train_flattened.shape"
   ]
  },
  {
   "cell_type": "markdown",
   "metadata": {},
   "source": [
    "<h3 style='color:purple'>Using Flatten layer so that we don't have to call .reshape on input dataset</h3>"
   ]
  },
  {
   "cell_type": "code",
   "execution_count": 11,
   "metadata": {},
   "outputs": [
    {
     "name": "stderr",
     "output_type": "stream",
     "text": [
      "C:\\Users\\ntuse\\AppData\\Local\\Programs\\Python\\Python312\\Lib\\site-packages\\keras\\src\\layers\\reshaping\\flatten.py:37: UserWarning: Do not pass an `input_shape`/`input_dim` argument to a layer. When using Sequential models, prefer using an `Input(shape)` object as the first layer in the model instead.\n",
      "  super().__init__(**kwargs)\n"
     ]
    },
    {
     "name": "stdout",
     "output_type": "stream",
     "text": [
      "Epoch 1/5\n",
      "\u001b[1m1875/1875\u001b[0m \u001b[32m━━━━━━━━━━━━━━━━━━━━\u001b[0m\u001b[37m\u001b[0m \u001b[1m7s\u001b[0m 3ms/step - accuracy: 0.8808 - loss: 0.4408\n",
      "Epoch 2/5\n",
      "\u001b[1m1875/1875\u001b[0m \u001b[32m━━━━━━━━━━━━━━━━━━━━\u001b[0m\u001b[37m\u001b[0m \u001b[1m5s\u001b[0m 3ms/step - accuracy: 0.9618 - loss: 0.1312\n",
      "Epoch 3/5\n",
      "\u001b[1m1875/1875\u001b[0m \u001b[32m━━━━━━━━━━━━━━━━━━━━\u001b[0m\u001b[37m\u001b[0m \u001b[1m5s\u001b[0m 3ms/step - accuracy: 0.9748 - loss: 0.0867\n",
      "Epoch 4/5\n",
      "\u001b[1m1875/1875\u001b[0m \u001b[32m━━━━━━━━━━━━━━━━━━━━\u001b[0m\u001b[37m\u001b[0m \u001b[1m5s\u001b[0m 3ms/step - accuracy: 0.9809 - loss: 0.0621\n",
      "Epoch 5/5\n",
      "\u001b[1m1875/1875\u001b[0m \u001b[32m━━━━━━━━━━━━━━━━━━━━\u001b[0m\u001b[37m\u001b[0m \u001b[1m6s\u001b[0m 3ms/step - accuracy: 0.9851 - loss: 0.0497\n"
     ]
    },
    {
     "data": {
      "text/plain": [
       "<keras.src.callbacks.history.History at 0x1c8c3901760>"
      ]
     },
     "execution_count": 11,
     "metadata": {},
     "output_type": "execute_result"
    }
   ],
   "source": [
    "model = keras.Sequential([\n",
    "    keras.layers.Flatten(input_shape=(28, 28)),\n",
    "    keras.layers.Dense(100, activation='relu'),\n",
    "    keras.layers.Dense(10, activation='sigmoid')\n",
    "])\n",
    "\n",
    "model.compile(optimizer='adam',\n",
    "              loss='sparse_categorical_crossentropy',\n",
    "              metrics=['accuracy'])\n",
    "\n",
    "tb_callback = tf.keras.callbacks.TensorBoard(log_dir=\"logs/\", histogram_freq=1)\n",
    "\n",
    "model.fit(X_train, y_train, epochs=5, callbacks=[tb_callback])"
   ]
  },
  {
   "cell_type": "code",
   "execution_count": 12,
   "metadata": {},
   "outputs": [
    {
     "data": {
      "text/html": [
       "\n",
       "      <iframe id=\"tensorboard-frame-2225aaa19cdff083\" width=\"100%\" height=\"800\" frameborder=\"0\">\n",
       "      </iframe>\n",
       "      <script>\n",
       "        (function() {\n",
       "          const frame = document.getElementById(\"tensorboard-frame-2225aaa19cdff083\");\n",
       "          const url = new URL(\"/\", window.location);\n",
       "          const port = 6006;\n",
       "          if (port) {\n",
       "            url.port = port;\n",
       "          }\n",
       "          frame.src = url;\n",
       "        })();\n",
       "      </script>\n",
       "    "
      ],
      "text/plain": [
       "<IPython.core.display.HTML object>"
      ]
     },
     "metadata": {},
     "output_type": "display_data"
    }
   ],
   "source": [
    "%load_ext tensorboard\n",
    "%tensorboard --logdir logs/fit"
   ]
  },
  {
   "cell_type": "markdown",
   "metadata": {},
   "source": [
    "Either run above inline magic or go to git bash or your command prompt and type below to run it,\n",
    "`tensorboard --logdir logs/`\n",
    "This will launch tensorboard at this url which you can open in your browser `http://localhost:6006/`"
   ]
  },
  {
   "cell_type": "code",
   "execution_count": 13,
   "metadata": {},
   "outputs": [
    {
     "data": {
      "text/plain": [
       "[array([[-0.03000521, -0.03185764, -0.02142969, ...,  0.06461383,\n",
       "          0.02589029,  0.04066636],\n",
       "        [ 0.01903388,  0.07176474,  0.05341786, ...,  0.0177128 ,\n",
       "          0.00419009,  0.01310041],\n",
       "        [-0.0414422 ,  0.02306009, -0.0382714 , ..., -0.08063696,\n",
       "         -0.02487746, -0.05189759],\n",
       "        ...,\n",
       "        [ 0.06163405, -0.00181413,  0.06453578, ...,  0.0802097 ,\n",
       "          0.07397145, -0.05477152],\n",
       "        [-0.00632792, -0.07263331,  0.05138971, ...,  0.06514892,\n",
       "          0.03279308, -0.06514699],\n",
       "        [-0.02482475,  0.03530934,  0.03187069, ..., -0.0541546 ,\n",
       "          0.0018838 , -0.04756764]], dtype=float32),\n",
       " array([ 0.04876292,  0.09011409,  0.08861035,  0.09902102,  0.00236145,\n",
       "        -0.03622661, -0.0075852 , -0.08866617, -0.02829002,  0.07432055,\n",
       "         0.08370813,  0.05230539, -0.04785733,  0.0800483 ,  0.01619805,\n",
       "        -0.11002418, -0.02643774, -0.02100059,  0.05171979,  0.08686493,\n",
       "         0.12437584,  0.00057126,  0.06971034,  0.11670223,  0.16025534,\n",
       "         0.03968229,  0.09687258,  0.01897629,  0.08008098, -0.01705851,\n",
       "        -0.04000803,  0.04670599,  0.05042131,  0.01780132,  0.00953382,\n",
       "        -0.0436227 ,  0.10957197, -0.054418  , -0.01250389, -0.03253835,\n",
       "        -0.01251787, -0.02843371, -0.00144838,  0.09733952,  0.08830266,\n",
       "         0.03448408, -0.0207913 , -0.01907011,  0.25518936,  0.08252085,\n",
       "        -0.00499027,  0.08518374,  0.06837698,  0.06907117, -0.05327693,\n",
       "         0.10770981, -0.01694021, -0.04714513,  0.06630006, -0.02202964,\n",
       "        -0.01818505, -0.04727511, -0.05287048,  0.03772725, -0.0037235 ,\n",
       "         0.00844891, -0.06636836,  0.06269125, -0.09102048,  0.08078267,\n",
       "         0.09912324,  0.05906866, -0.01069051,  0.07131453,  0.04423699,\n",
       "         0.17697577, -0.02571751,  0.02350132, -0.04201106,  0.02720141,\n",
       "        -0.04523376,  0.16628434, -0.12147067,  0.05861203, -0.00269648,\n",
       "         0.1016501 ,  0.16929284, -0.01241932, -0.06201594, -0.00461907,\n",
       "         0.14841016, -0.04839704,  0.12980482,  0.16451126, -0.10928175,\n",
       "        -0.05303059,  0.07742428, -0.03906728, -0.01902073,  0.14134361],\n",
       "       dtype=float32),\n",
       " array([[-4.12517160e-01,  2.79485554e-01,  4.57730085e-01,\n",
       "         -2.55422443e-01,  4.80472520e-02, -3.39981288e-01,\n",
       "         -3.98532480e-01,  9.81146023e-02,  7.70087764e-02,\n",
       "         -1.71160251e-01],\n",
       "        [-6.42577410e-01,  3.23636591e-01, -9.52319726e-02,\n",
       "         -4.32144217e-02,  1.77194878e-01,  2.01761127e-02,\n",
       "         -9.73984838e-01,  2.48777062e-01, -2.91582912e-01,\n",
       "          1.89344198e-01],\n",
       "        [-4.44733500e-01, -3.39777380e-01, -3.46477360e-01,\n",
       "          2.65785217e-01,  3.20646733e-01, -2.99113601e-01,\n",
       "         -3.45649391e-01,  2.59341057e-02, -6.93945706e-01,\n",
       "          2.54060656e-01],\n",
       "        [-4.79886353e-01,  1.64622635e-01,  2.31345326e-01,\n",
       "         -7.63473958e-02,  2.84757316e-01,  1.57407284e-01,\n",
       "          1.45845562e-01, -1.64887458e-01, -3.80809426e-01,\n",
       "          3.61148953e-01],\n",
       "        [ 1.78795919e-01,  7.95547292e-02, -7.24822655e-02,\n",
       "         -9.82885510e-02, -5.14786504e-02, -1.36851728e-01,\n",
       "         -3.14230978e-01,  1.27870575e-01,  1.63901821e-01,\n",
       "          1.40267342e-01],\n",
       "        [-3.48514467e-01, -2.97367126e-01,  3.76934111e-02,\n",
       "         -3.05045009e-01,  2.03198671e-01,  1.04149364e-01,\n",
       "         -2.21395254e-01, -2.97057807e-01,  3.65361840e-01,\n",
       "          1.94434077e-02],\n",
       "        [-3.11180681e-01, -1.95371822e-01,  1.70993939e-01,\n",
       "          3.91506612e-01, -6.70612872e-01,  3.36662292e-01,\n",
       "         -9.62396085e-01, -2.79853880e-01, -5.12027562e-01,\n",
       "          3.20251137e-01],\n",
       "        [-8.37182179e-02, -5.10243587e-02,  9.37215760e-02,\n",
       "          1.25701934e-01, -5.13272405e-01, -2.57247031e-01,\n",
       "         -3.64524603e-01, -1.69123754e-01,  9.62607190e-02,\n",
       "          1.02409422e-01],\n",
       "        [-2.13305671e-02,  2.95608491e-01, -6.31479800e-01,\n",
       "          1.25273421e-01,  2.84881562e-01, -8.55202898e-02,\n",
       "          7.05041215e-02,  5.44719994e-01, -1.77166685e-01,\n",
       "         -3.78133357e-02],\n",
       "        [-5.20515680e-01,  5.72833955e-01,  5.48910834e-02,\n",
       "         -6.15821004e-01,  1.28319889e-01, -4.43516336e-02,\n",
       "         -7.39372149e-02, -6.21136092e-02, -5.67874432e-01,\n",
       "         -5.54039717e-01],\n",
       "        [-3.74466777e-01,  3.08013648e-01,  1.79488078e-01,\n",
       "          1.50323033e-01,  1.68023512e-01,  1.44060299e-01,\n",
       "         -2.64432698e-01,  2.07092926e-01,  2.19219565e-01,\n",
       "          2.03283921e-01],\n",
       "        [ 5.94200976e-02, -1.76997647e-01, -1.76157296e-01,\n",
       "          1.56319380e-01,  2.31171772e-01,  1.55390352e-01,\n",
       "         -2.22625405e-01,  1.52852774e-01,  2.73106813e-01,\n",
       "          1.24873795e-01],\n",
       "        [ 2.25295708e-01, -5.75167015e-02,  1.89159036e-01,\n",
       "          2.23325849e-01, -6.56623363e-01, -4.43963371e-02,\n",
       "         -1.00437112e-01,  1.28248483e-01, -4.37194156e-03,\n",
       "         -1.28017455e-01],\n",
       "        [-4.29966718e-01, -3.81007105e-01, -2.25786585e-03,\n",
       "          2.04787880e-01,  1.14902563e-01,  1.13792516e-01,\n",
       "          2.34500244e-01,  1.34496570e-01,  3.01002800e-01,\n",
       "         -3.83304089e-01],\n",
       "        [ 1.79423034e-01, -6.41238630e-01, -6.13911562e-02,\n",
       "          1.01993352e-01, -1.74059335e-03,  3.66312683e-01,\n",
       "          3.75071645e-01, -4.17459697e-01, -7.96071142e-02,\n",
       "         -1.85099632e-01],\n",
       "        [ 1.15679346e-01, -5.17103709e-02, -2.13407934e-01,\n",
       "         -9.69787594e-03, -1.48787452e-02, -3.30381125e-01,\n",
       "         -4.74438846e-01, -1.02839522e-01,  3.67448374e-04,\n",
       "          7.16197342e-02],\n",
       "        [ 1.66272700e-01,  1.15119100e-01, -4.29446340e-01,\n",
       "          4.96322840e-01, -4.69600409e-01,  2.40284428e-01,\n",
       "         -1.34871662e-01, -2.06510842e-01,  2.53681123e-01,\n",
       "         -4.10196856e-02],\n",
       "        [-5.13040364e-01,  1.04151860e-01,  1.65136606e-01,\n",
       "          2.88931996e-01, -5.22804976e-01, -1.79618299e-01,\n",
       "          9.09571275e-02,  4.39196259e-01, -1.03067532e-01,\n",
       "         -1.05317175e+00],\n",
       "        [ 5.26339300e-02,  5.33338031e-03, -5.05615696e-02,\n",
       "          2.06931129e-01,  5.85098505e-01, -4.68519449e-01,\n",
       "          5.49290441e-02,  4.98109311e-01, -5.59694529e-01,\n",
       "         -8.58250856e-01],\n",
       "        [-3.63534182e-01, -2.56457683e-02,  2.70215869e-01,\n",
       "         -1.11724362e-01,  4.44175661e-01,  1.05480507e-01,\n",
       "          4.60571945e-01,  5.24452686e-01,  4.74735722e-03,\n",
       "         -4.08920437e-01],\n",
       "        [ 7.52222613e-02, -2.95065753e-02,  2.07457975e-01,\n",
       "          2.74362741e-03, -2.34268427e-01,  9.61786285e-02,\n",
       "          2.23339036e-01, -3.26465607e-01,  2.62362182e-01,\n",
       "         -2.16853440e-01],\n",
       "        [ 1.46027580e-01, -2.75379926e-01, -5.78388497e-02,\n",
       "          6.07166300e-03, -7.54816055e-01,  1.29974335e-01,\n",
       "          6.36247173e-02, -5.86784303e-01,  1.90019682e-02,\n",
       "         -2.65740365e-01],\n",
       "        [ 1.45514637e-01, -3.43195587e-01, -1.28007248e-01,\n",
       "         -4.58711743e-01,  1.14953041e-01,  1.14726417e-01,\n",
       "         -1.91844255e-01, -4.61674519e-02, -3.59251469e-01,\n",
       "          3.99346054e-01],\n",
       "        [-8.91026109e-02, -3.56053144e-01,  9.28766504e-02,\n",
       "         -3.38933587e-01,  1.47444814e-01,  1.62452653e-01,\n",
       "          1.68092981e-01, -3.01645815e-01,  3.15414190e-01,\n",
       "         -9.33572054e-02],\n",
       "        [ 9.21450332e-02,  3.56237628e-02,  3.15065026e-01,\n",
       "         -3.30365509e-01,  4.86835651e-02,  2.17221215e-01,\n",
       "          9.59861279e-02, -3.73239011e-01, -7.62428269e-02,\n",
       "         -3.04982960e-01],\n",
       "        [-1.79555818e-01, -2.53463268e-01,  2.19142839e-01,\n",
       "         -1.20046258e-01, -3.19565266e-01, -3.43054235e-01,\n",
       "         -4.23843831e-01,  2.29262844e-01,  1.30635485e-01,\n",
       "          1.72844186e-01],\n",
       "        [-1.81707636e-01,  1.47213534e-01,  2.22500637e-01,\n",
       "         -4.08516467e-01,  1.53133124e-01,  4.12799507e-01,\n",
       "         -2.26084486e-01,  4.71093990e-02, -6.46342993e-01,\n",
       "          9.95538309e-02],\n",
       "        [-2.02613488e-01, -5.15445471e-01, -4.33715522e-01,\n",
       "         -3.98583561e-01,  2.19178572e-01,  2.56752163e-01,\n",
       "          2.57354289e-01,  8.03169683e-02,  1.28409818e-01,\n",
       "          1.31421119e-01],\n",
       "        [ 3.84573638e-02, -1.40047232e-02,  3.51209611e-01,\n",
       "          1.55285761e-01,  2.02994913e-01,  2.34992385e-01,\n",
       "         -2.16148883e-01, -6.34698570e-01, -5.03112972e-01,\n",
       "         -6.05090195e-03],\n",
       "        [ 2.00880960e-01, -1.40670776e-01, -7.37286568e-01,\n",
       "         -2.27919325e-01,  1.56802803e-01,  3.45686704e-01,\n",
       "          9.41590741e-02, -6.68310151e-02, -1.48875490e-01,\n",
       "          6.93131089e-02],\n",
       "        [-6.15055561e-02,  3.57174993e-01, -3.02395254e-01,\n",
       "         -6.20298684e-01,  4.89252031e-01,  2.51441389e-01,\n",
       "          2.57586181e-01, -1.60239026e-04, -2.26963758e-01,\n",
       "         -4.62214798e-01],\n",
       "        [-2.98053116e-01,  7.78057426e-02,  3.00300233e-02,\n",
       "          2.36253664e-01, -3.13932419e-01,  2.66974151e-01,\n",
       "          2.19564542e-01, -3.16061467e-01,  2.22513452e-01,\n",
       "         -1.87679708e-01],\n",
       "        [-2.02036612e-02, -2.04928249e-01,  5.71113348e-01,\n",
       "         -2.76997536e-01,  1.10978089e-01, -1.62110537e-01,\n",
       "         -2.10731804e-01, -2.07063556e-01, -6.55823529e-01,\n",
       "          2.33480006e-01],\n",
       "        [ 2.43238375e-01,  3.65834355e-01,  1.96835250e-01,\n",
       "          1.25509858e-01, -9.59990323e-02,  2.53758729e-01,\n",
       "         -1.15817472e-01,  3.10420096e-01, -3.67868364e-01,\n",
       "         -3.39367926e-01],\n",
       "        [ 1.66191638e-01, -6.88816547e-01,  1.11941136e-01,\n",
       "         -2.16454446e-01, -1.42571881e-01,  4.72312048e-02,\n",
       "          3.39404285e-01, -3.75513583e-01, -1.39632776e-01,\n",
       "          9.65856984e-02],\n",
       "        [-1.17550239e-01,  1.35068372e-01,  1.65882796e-01,\n",
       "          1.86442494e-01, -3.69887620e-01, -9.38220471e-02,\n",
       "         -2.41825402e-01,  1.21965230e-01,  8.60017315e-02,\n",
       "          8.70926902e-02],\n",
       "        [ 2.15781152e-01, -4.96781655e-02,  1.14684179e-01,\n",
       "         -4.73907948e-01, -2.91229635e-01, -7.34862452e-03,\n",
       "          1.59554601e-01, -1.68995544e-01,  2.38186792e-01,\n",
       "         -3.80803734e-01],\n",
       "        [-6.44737899e-01,  3.74732018e-02, -2.11307496e-01,\n",
       "          1.89800993e-01,  1.25530213e-01,  2.26693712e-02,\n",
       "         -4.43384975e-01, -3.37358952e-01,  8.49455893e-02,\n",
       "          2.38292053e-01],\n",
       "        [ 2.59515911e-01,  4.63277288e-02, -6.16553903e-01,\n",
       "          2.71856129e-01, -2.05920041e-01, -9.36846808e-02,\n",
       "          1.53408483e-01,  2.42544755e-01, -2.74098292e-02,\n",
       "         -1.86709926e-01],\n",
       "        [ 8.32209066e-02,  4.17493343e-01,  3.03506345e-01,\n",
       "         -6.87820986e-02,  6.71194075e-03, -5.44699132e-01,\n",
       "         -4.29980695e-01,  3.38302225e-01, -6.28745139e-01,\n",
       "          4.72735651e-02],\n",
       "        [-2.86991522e-02, -6.63779080e-01,  3.05314541e-01,\n",
       "         -4.49987203e-01, -4.43427861e-02, -5.40350154e-02,\n",
       "         -4.92390156e-01,  3.63171428e-01, -5.76537430e-01,\n",
       "          3.38597566e-01],\n",
       "        [ 3.11072379e-01, -3.46810073e-01, -7.86081627e-02,\n",
       "         -2.74430901e-01, -8.81383047e-02, -3.15920919e-01,\n",
       "          1.72220796e-01,  2.54246771e-01, -2.03417957e-01,\n",
       "          1.50348812e-01],\n",
       "        [ 1.96265846e-01, -3.25648636e-01,  1.99118644e-01,\n",
       "         -8.94673169e-02, -5.74312985e-01, -4.84704338e-02,\n",
       "          2.29611620e-02, -2.70638429e-02,  4.72198986e-02,\n",
       "          1.44300178e-01],\n",
       "        [-4.49430525e-01, -2.85667360e-01,  1.88179597e-01,\n",
       "         -3.26842070e-02, -5.96417114e-02,  1.80301547e-01,\n",
       "         -4.87750947e-01,  6.29661754e-02,  1.19454041e-01,\n",
       "         -1.94200456e-01],\n",
       "        [-2.82739162e-01, -4.18447815e-02,  2.19727799e-01,\n",
       "         -2.77394742e-01, -4.02389616e-01,  5.17641842e-01,\n",
       "          3.07721406e-01,  5.70175111e-01, -4.73180175e-01,\n",
       "         -3.92115682e-01],\n",
       "        [ 2.64618546e-01,  3.41306388e-01,  4.38857451e-02,\n",
       "         -2.93339521e-01,  2.25627851e-02, -6.58165395e-01,\n",
       "         -9.97859836e-02,  9.66081470e-02,  2.55520046e-01,\n",
       "         -9.80288684e-02],\n",
       "        [ 1.82169989e-01, -1.13274552e-01,  1.70157462e-01,\n",
       "          2.21452251e-01,  2.03121454e-01,  2.41342187e-02,\n",
       "          2.63347864e-01,  5.81617467e-02,  2.09623694e-01,\n",
       "          4.77833338e-02],\n",
       "        [-1.62885174e-01, -1.37595415e-01,  1.62614062e-01,\n",
       "         -1.78787470e-01, -1.32891998e-01,  1.02862239e-01,\n",
       "          9.08216462e-02,  2.61292551e-02, -1.09841418e-03,\n",
       "         -1.47296295e-01],\n",
       "        [ 2.34755605e-01, -4.49024618e-01,  1.68903880e-02,\n",
       "         -3.30118313e-02, -9.62665319e-01,  4.97607678e-01,\n",
       "         -4.49718922e-01,  2.48349681e-01, -2.07533672e-01,\n",
       "         -2.33609572e-01],\n",
       "        [-1.60037667e-01, -9.55360234e-02, -1.77249223e-01,\n",
       "         -3.50991488e-01,  4.47752327e-01, -3.43316436e-01,\n",
       "         -2.06358269e-01, -1.23994291e-01, -4.07793969e-01,\n",
       "          2.29597911e-01],\n",
       "        [-5.25294423e-01,  8.49724486e-02, -4.09055322e-01,\n",
       "          2.32344612e-01,  1.33492528e-02,  3.48879069e-01,\n",
       "         -3.27742100e-01,  4.95493673e-02, -1.07143149e-02,\n",
       "          1.13283895e-01],\n",
       "        [-9.42465384e-03, -1.65701509e-01, -3.69857132e-01,\n",
       "         -3.07406068e-01,  2.63495415e-01,  3.36148858e-01,\n",
       "          3.12752545e-01, -1.72840983e-01,  4.21305150e-02,\n",
       "         -5.06369352e-01],\n",
       "        [-4.89119619e-01,  2.89262205e-01, -4.80166733e-01,\n",
       "          3.88897300e-01,  1.38577566e-01,  3.20727229e-01,\n",
       "         -7.01220155e-01,  1.73563987e-01, -6.82291269e-01,\n",
       "          3.07239175e-01],\n",
       "        [ 3.70349973e-01,  3.27359408e-01,  1.63550258e-01,\n",
       "          7.21525727e-03, -2.89727360e-01,  2.99362868e-01,\n",
       "         -2.34645292e-01,  4.05622758e-02, -6.72620475e-01,\n",
       "          2.11341366e-01],\n",
       "        [-7.83895403e-02,  5.28556347e-01, -1.56948760e-01,\n",
       "         -4.94377315e-01,  5.39619207e-01, -4.64038223e-01,\n",
       "          1.79670915e-01, -4.19877656e-02, -1.59038734e-02,\n",
       "         -5.23727357e-01],\n",
       "        [-7.88332820e-01,  2.91535348e-01, -1.58171371e-01,\n",
       "         -1.18816413e-01,  1.41514122e-01, -2.59668708e-01,\n",
       "         -2.92836279e-01, -2.51354188e-01,  3.00051212e-01,\n",
       "          2.86438465e-01],\n",
       "        [ 9.63780750e-03,  3.87562662e-02,  1.34427518e-01,\n",
       "          1.78714529e-01, -2.33355939e-01, -1.22039005e-01,\n",
       "          1.01392291e-01, -3.19059521e-01,  1.59075856e-01,\n",
       "          5.22227772e-02],\n",
       "        [ 9.20087248e-02, -2.47202739e-01, -7.90498480e-02,\n",
       "          1.34080917e-01, -1.44537017e-01, -1.91139728e-01,\n",
       "         -4.98422652e-01,  2.83713043e-01,  2.33781780e-03,\n",
       "         -4.49437685e-02],\n",
       "        [-3.80125754e-02, -4.00885791e-01, -2.08191305e-01,\n",
       "         -1.22746348e-01,  6.98876977e-02,  4.57341671e-02,\n",
       "          2.78070986e-01,  2.14889452e-01, -5.70239782e-01,\n",
       "          2.37152398e-01],\n",
       "        [ 6.27186596e-02,  3.06816965e-01, -2.23912567e-01,\n",
       "          4.36645240e-01,  1.43737450e-01,  2.49075800e-01,\n",
       "         -1.77185893e-01, -1.78660169e-01, -3.48509192e-01,\n",
       "         -2.18724370e-01],\n",
       "        [-1.13361090e-01, -2.44877085e-01, -2.54461676e-01,\n",
       "         -3.25048007e-02,  2.37415969e-01, -2.53884554e-01,\n",
       "          1.81328401e-01, -1.02079265e-01,  1.51987309e-02,\n",
       "         -6.46328032e-02],\n",
       "        [ 1.20401964e-01,  2.77275175e-01, -4.70808357e-01,\n",
       "          2.95584321e-01,  2.38956362e-01,  1.42123213e-03,\n",
       "          3.80654007e-01,  1.76142603e-02, -4.87974972e-01,\n",
       "          1.49107009e-01],\n",
       "        [ 2.01706305e-01, -2.85077900e-01,  6.71219900e-02,\n",
       "          1.30617410e-01,  1.81913868e-01, -4.86687779e-01,\n",
       "         -1.66522413e-01,  2.31116280e-01,  1.56032413e-01,\n",
       "          5.68908453e-02],\n",
       "        [-4.93826449e-01, -6.62999272e-01, -5.40352404e-01,\n",
       "          2.07677767e-01,  3.42715591e-01,  2.39556640e-01,\n",
       "         -6.84272110e-01, -2.17271954e-01, -3.69397730e-01,\n",
       "          2.52071798e-01],\n",
       "        [-1.13375440e-01,  1.32621720e-01,  7.19462261e-02,\n",
       "          2.42891937e-01,  8.04307759e-02, -4.48945373e-01,\n",
       "         -5.18236339e-01,  3.14917266e-02,  1.75737366e-01,\n",
       "          3.01903307e-01],\n",
       "        [-5.79769433e-01,  4.98715825e-02, -1.51361555e-01,\n",
       "         -2.06251055e-01, -1.03845167e+00,  5.01247883e-01,\n",
       "          1.95359945e-01,  1.97884887e-01,  2.14184478e-01,\n",
       "         -1.31582692e-01],\n",
       "        [ 1.46968752e-01, -2.63054699e-01, -1.23145260e-01,\n",
       "         -2.12224439e-01,  8.85756686e-02,  1.56973422e-01,\n",
       "         -2.47244090e-01,  2.97341347e-01,  4.63473909e-02,\n",
       "          1.06284684e-02],\n",
       "        [-3.85789186e-01, -6.64385676e-01, -2.95064449e-01,\n",
       "          1.84509292e-01, -6.34770244e-02,  1.25106424e-01,\n",
       "         -6.55852020e-01, -3.19960713e-02,  1.31327976e-02,\n",
       "          1.38089001e-01],\n",
       "        [ 3.33778143e-01,  1.99867055e-01, -2.53742546e-01,\n",
       "         -2.20468100e-02, -2.07719758e-01, -3.77385378e-01,\n",
       "          2.65261412e-01,  2.55991071e-01, -1.47333324e-01,\n",
       "         -8.88551399e-02],\n",
       "        [-1.41902164e-01,  5.89366853e-02,  1.53281420e-01,\n",
       "         -9.60015133e-02, -3.08716446e-02, -2.29827762e-01,\n",
       "          1.67565271e-01, -2.77621776e-01,  1.44550741e-01,\n",
       "         -1.51377812e-01],\n",
       "        [-5.88158548e-01,  3.47188950e-01, -6.45055249e-02,\n",
       "          7.92796239e-02,  8.34429339e-02,  1.52005643e-01,\n",
       "         -5.09360619e-02, -4.77147698e-01, -1.68640465e-02,\n",
       "         -2.11881772e-01],\n",
       "        [-4.04500604e-01, -2.55447894e-01,  2.71353684e-03,\n",
       "          1.36769131e-01, -8.57597888e-01,  3.47335964e-01,\n",
       "         -5.23987710e-01,  2.69518644e-01, -1.66418795e-02,\n",
       "         -2.99154699e-01],\n",
       "        [ 2.34521449e-01,  2.01757774e-01,  1.76084653e-01,\n",
       "          1.41645819e-01, -6.51357472e-01,  1.91339016e-01,\n",
       "         -4.00702804e-02, -4.86672044e-01, -1.18182011e-01,\n",
       "         -2.72960812e-01],\n",
       "        [ 1.10574581e-01, -1.35819927e-01,  4.10773039e-01,\n",
       "          2.07856014e-01, -3.53078246e-01,  2.61105746e-01,\n",
       "         -1.08994447e-01,  2.59129614e-01, -5.11969805e-01,\n",
       "         -6.04394078e-01],\n",
       "        [-3.26175213e-01,  5.72520904e-02, -2.05520615e-01,\n",
       "          3.49203013e-02, -1.97308540e-01, -5.72146773e-01,\n",
       "          5.49408853e-01,  1.17886879e-01, -1.01665169e-01,\n",
       "          1.70336455e-01],\n",
       "        [ 2.52470851e-01,  4.82654631e-01, -1.89904988e-01,\n",
       "         -2.87871361e-01,  1.46713912e-01, -1.82806715e-01,\n",
       "          2.85149544e-01,  5.32311797e-01, -7.17219174e-01,\n",
       "         -4.65387136e-01],\n",
       "        [ 9.92149040e-02,  4.99643162e-02,  2.04329967e-01,\n",
       "          2.29268461e-01,  3.54185849e-01, -8.50546002e-01,\n",
       "         -4.85996902e-01,  1.19474024e-01, -1.95725691e-02,\n",
       "         -1.64443463e-01],\n",
       "        [-2.26845786e-01,  2.39953652e-01, -7.96373338e-02,\n",
       "         -3.94880801e-01,  1.96859598e-01, -2.73012519e-01,\n",
       "          3.07808220e-01, -3.31576765e-01, -5.83227575e-02,\n",
       "          2.30971038e-01],\n",
       "        [ 5.42921424e-01, -6.94331825e-01,  3.58773977e-01,\n",
       "         -3.67013484e-01, -2.55898207e-01, -7.62629867e-01,\n",
       "         -2.41990402e-01,  1.47900641e-01,  1.46866530e-01,\n",
       "          4.51527685e-02],\n",
       "        [ 4.18093652e-02, -3.71773690e-01, -1.85981859e-02,\n",
       "         -1.61661264e-02, -3.81600529e-01,  1.33017078e-01,\n",
       "         -7.99716473e-01,  8.99550766e-02, -7.64393359e-02,\n",
       "          2.78204888e-01],\n",
       "        [-2.96178848e-01, -8.46878514e-02, -6.09705091e-01,\n",
       "         -2.32523531e-02, -4.23516929e-01,  6.18689299e-01,\n",
       "          3.17475945e-02,  3.99518013e-02, -1.76950842e-01,\n",
       "          2.27451414e-01],\n",
       "        [ 2.34861374e-01,  2.49262795e-01, -4.22626764e-01,\n",
       "         -3.09881330e-01, -4.34922397e-01,  2.81238407e-01,\n",
       "          4.50110853e-01, -2.84649074e-01,  1.85352173e-02,\n",
       "          2.76267946e-01],\n",
       "        [ 4.66939285e-02,  2.30885670e-01,  2.88310409e-01,\n",
       "          1.23664141e-01,  7.96842650e-02, -4.74819720e-01,\n",
       "          1.72561184e-01,  1.62172720e-01, -3.79284114e-01,\n",
       "         -6.89913690e-01],\n",
       "        [-1.52939454e-01,  6.83978558e-01, -6.77672476e-02,\n",
       "          2.20925033e-01,  4.18215752e-01, -5.43510854e-01,\n",
       "         -2.26268277e-01, -3.71582687e-01, -1.33982137e-01,\n",
       "         -2.91826665e-01],\n",
       "        [ 1.76357374e-01, -1.50903652e-03,  2.33481169e-01,\n",
       "          3.13177854e-02, -1.96465239e-01,  6.97278650e-03,\n",
       "          6.61417544e-02, -2.21621975e-01,  2.10932270e-01,\n",
       "          1.09793626e-01],\n",
       "        [ 2.69945413e-01, -1.91716090e-01, -9.22952741e-02,\n",
       "         -3.13294590e-01,  1.33075014e-01,  2.73882866e-01,\n",
       "          2.71087974e-01,  1.70884505e-01,  2.13814557e-01,\n",
       "         -3.21506619e-01],\n",
       "        [-3.31675738e-01,  1.59698933e-01, -4.71950769e-01,\n",
       "          1.53125972e-01,  8.25170502e-02,  2.82597870e-01,\n",
       "         -2.45734483e-01, -1.19209597e-02,  2.93062299e-01,\n",
       "          3.00183058e-01],\n",
       "        [ 3.40043962e-01, -9.83757973e-02,  2.01484904e-01,\n",
       "         -2.10095376e-01, -2.91648835e-01, -2.89904386e-01,\n",
       "          1.50254611e-02, -3.12936194e-02,  2.70618331e-02,\n",
       "         -6.84644580e-02],\n",
       "        [-3.08088720e-01,  2.12211758e-02,  3.16052824e-01,\n",
       "          4.46737796e-01,  1.30138442e-01,  4.56734039e-02,\n",
       "         -3.95543337e-01,  3.62986892e-01, -2.69201815e-01,\n",
       "         -7.99945056e-01],\n",
       "        [-9.31864530e-02, -4.23873544e-01, -3.35830033e-01,\n",
       "         -1.28356731e-02, -2.05279678e-01,  3.05079445e-02,\n",
       "          1.12547360e-01, -2.13831440e-01,  1.41529620e-01,\n",
       "          8.87288228e-02],\n",
       "        [-4.03032213e-01,  3.25820804e-01, -4.45229977e-01,\n",
       "         -5.83685040e-01,  3.34350616e-01,  3.70327979e-01,\n",
       "         -1.03835911e-01,  1.55278087e-01,  2.14018285e-01,\n",
       "         -1.10402539e-01],\n",
       "        [ 3.95388268e-02, -2.36175090e-01, -1.28354341e-01,\n",
       "         -1.81614030e-02,  1.38873607e-01, -1.16545528e-01,\n",
       "         -1.76191241e-01, -9.91338491e-02,  2.20444590e-01,\n",
       "          1.39441460e-01],\n",
       "        [ 1.25733435e-01, -1.48952872e-01,  5.82762480e-01,\n",
       "          2.48080537e-01, -4.72212732e-01, -5.76077223e-01,\n",
       "          7.31140599e-02,  1.55396000e-01, -4.64656264e-01,\n",
       "         -1.28550544e-01],\n",
       "        [-5.27686402e-02,  1.29198238e-01,  4.09810841e-01,\n",
       "         -8.55507731e-01,  3.25491071e-01, -2.96540886e-01,\n",
       "          2.69968569e-01,  3.60434175e-01, -1.61158100e-01,\n",
       "         -2.91558281e-02],\n",
       "        [ 2.43284389e-01, -3.42677623e-01,  3.76528166e-02,\n",
       "         -5.27922586e-02,  2.68877745e-01, -2.38135219e-01,\n",
       "          2.01373309e-01, -4.34858263e-01, -7.15805814e-02,\n",
       "          1.90228298e-01],\n",
       "        [ 8.79112706e-02, -2.42936850e-01, -2.75569968e-02,\n",
       "          3.66793573e-01,  1.18576847e-01,  3.15464381e-03,\n",
       "          1.05083227e-01,  1.72555387e-01, -1.93298697e-01,\n",
       "         -3.43734175e-01],\n",
       "        [ 3.12902071e-02, -1.32556170e-01,  1.90050825e-01,\n",
       "         -7.61293545e-02,  2.73635954e-01,  1.57460961e-02,\n",
       "         -2.24895775e-01, -4.56951201e-01, -2.82203895e-03,\n",
       "         -5.57548832e-03],\n",
       "        [ 4.19221759e-01,  3.87491249e-02,  1.71460018e-01,\n",
       "          4.01344299e-01, -7.31106937e-01, -3.64971250e-01,\n",
       "         -4.00233328e-01,  1.28486261e-01,  5.42392060e-02,\n",
       "          2.05999032e-01],\n",
       "        [-3.05354539e-02, -3.38546783e-01, -2.60784537e-01,\n",
       "          2.04474628e-01, -2.96022922e-01,  3.15616667e-01,\n",
       "         -1.36210015e-02, -5.36394119e-01,  2.51431257e-01,\n",
       "          3.80501300e-02],\n",
       "        [-4.91891533e-01,  1.46552280e-01,  3.30503315e-01,\n",
       "         -1.72183022e-01,  1.96145773e-01,  3.07914376e-01,\n",
       "          5.14530204e-02,  1.94701448e-01, -5.31856790e-02,\n",
       "         -3.03719997e-01]], dtype=float32),\n",
       " array([-0.14987096, -0.02320984,  0.05982624, -0.0770974 , -0.00283668,\n",
       "         0.08617331, -0.01946915, -0.05618269,  0.14630783, -0.05011111],\n",
       "       dtype=float32)]"
      ]
     },
     "execution_count": 13,
     "metadata": {},
     "output_type": "execute_result"
    }
   ],
   "source": [
    "model.get_weights()"
   ]
  },
  {
   "cell_type": "code",
   "execution_count": null,
   "metadata": {},
   "outputs": [],
   "source": []
  }
 ],
 "metadata": {
  "kernelspec": {
   "display_name": "Python 3 (ipykernel)",
   "language": "python",
   "name": "python3"
  },
  "language_info": {
   "codemirror_mode": {
    "name": "ipython",
    "version": 3
   },
   "file_extension": ".py",
   "mimetype": "text/x-python",
   "name": "python",
   "nbconvert_exporter": "python",
   "pygments_lexer": "ipython3",
   "version": "3.12.2"
  }
 },
 "nbformat": 4,
 "nbformat_minor": 4
}
