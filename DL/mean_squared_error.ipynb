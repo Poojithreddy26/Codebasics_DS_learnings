{
 "cells": [
  {
   "cell_type": "code",
   "execution_count": 3,
   "id": "aa243b84-ecaa-4a6a-a12c-7e4feaf6430a",
   "metadata": {},
   "outputs": [],
   "source": [
    "y_predicted = np.array([1,1,0,0,1])\n",
    "y_true = np.array([0.30,0.7,1,0,0.5])"
   ]
  },
  {
   "cell_type": "code",
   "execution_count": 6,
   "id": "8e0b8ca4-0d4e-4441-abe8-4042791ba627",
   "metadata": {},
   "outputs": [],
   "source": [
    "import numpy as np"
   ]
  },
  {
   "cell_type": "code",
   "execution_count": 7,
   "id": "2a38d84c-e941-4865-a28c-98f2df5b8349",
   "metadata": {},
   "outputs": [],
   "source": [
    "total_error =0"
   ]
  },
  {
   "cell_type": "code",
   "execution_count": 14,
   "id": "33893d27-dd17-465f-b485-352e354b88e0",
   "metadata": {},
   "outputs": [],
   "source": [
    "# derive the mean squared error which equals to summation of all iterations of the squared difference of y-pred to y-true\n",
    "import math\n",
    "\n",
    "def mse(y_pred,y_true):\n",
    "    total_error =0\n",
    "    for yp,yt in zip(y_pred,y_true):\n",
    "        total_error+=math.pow(yt-yp,2)\n",
    "    return total_error/len(y_true)\n",
    "    \n",
    "    \n",
    "    "
   ]
  },
  {
   "cell_type": "code",
   "execution_count": 15,
   "id": "d01a437e-79a2-4c7b-834c-7e3dfda6f51c",
   "metadata": {},
   "outputs": [],
   "source": [
    "te = mse(y_predicted,y_true)"
   ]
  },
  {
   "cell_type": "code",
   "execution_count": 16,
   "id": "d94f1aeb-b636-49d4-b3f7-8f0cdacfebb8",
   "metadata": {},
   "outputs": [
    {
     "name": "stdout",
     "output_type": "stream",
     "text": [
      "0.366\n"
     ]
    }
   ],
   "source": [
    "print(te)"
   ]
  },
  {
   "cell_type": "code",
   "execution_count": 19,
   "id": "3c119cbd-2414-41e7-8815-5bf9367812a3",
   "metadata": {},
   "outputs": [
    {
     "data": {
      "text/plain": [
       "0.366"
      ]
     },
     "execution_count": 19,
     "metadata": {},
     "output_type": "execute_result"
    }
   ],
   "source": [
    "#using numpy\n",
    "np.mean(np.square(y_true-y_predicted))"
   ]
  },
  {
   "cell_type": "code",
   "execution_count": null,
   "id": "faf23333-c807-43cb-b38c-fa536fc441ac",
   "metadata": {},
   "outputs": [],
   "source": []
  }
 ],
 "metadata": {
  "kernelspec": {
   "display_name": "Python 3 (ipykernel)",
   "language": "python",
   "name": "python3"
  },
  "language_info": {
   "codemirror_mode": {
    "name": "ipython",
    "version": 3
   },
   "file_extension": ".py",
   "mimetype": "text/x-python",
   "name": "python",
   "nbconvert_exporter": "python",
   "pygments_lexer": "ipython3",
   "version": "3.12.2"
  }
 },
 "nbformat": 4,
 "nbformat_minor": 5
}
