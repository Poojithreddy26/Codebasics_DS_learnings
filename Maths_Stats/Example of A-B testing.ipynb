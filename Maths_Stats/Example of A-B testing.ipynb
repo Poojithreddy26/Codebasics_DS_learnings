{
 "cells": [
  {
   "cell_type": "code",
   "execution_count": 1,
   "metadata": {},
   "outputs": [
    {
     "name": "stdout",
     "output_type": "stream",
     "text": [
      "Z-score: 0.9810524489564582\n",
      "The difference is not statistically significant.\n",
      "Version B is better.\n"
     ]
    }
   ],
   "source": [
    "import numpy as np\n",
    "import scipy.stats as stats\n",
    "\n",
    "# Let's assume we have collected data from an A/B test\n",
    "# We'll simulate this data for simplicity\n",
    "\n",
    "# Number of test users\n",
    "num_users = 1000\n",
    "\n",
    "# Simulate conversion rates for version A and B\n",
    "# These are just made-up numbers for illustration\n",
    "conversion_rate_A = 0.05 # 5% conversion rate for version A\n",
    "conversion_rate_B = 0.06 # 6% conversion rate for version B\n",
    "\n",
    "# Simulate the number of conversions for each version\n",
    "conversions_A = np.random.binomial(num_users, conversion_rate_A)\n",
    "conversions_B = np.random.binomial(num_users, conversion_rate_B)\n",
    "\n",
    "# Now, let's perform a statistical test to see if the difference in conversion rates is significant\n",
    "# We'll use a two-proportion z-test for this\n",
    "\n",
    "# Calculate the standard errors\n",
    "se_A = np.sqrt((conversion_rate_A * (1 - conversion_rate_A)) / num_users)\n",
    "se_B = np.sqrt((conversion_rate_B * (1 - conversion_rate_B)) / num_users)\n",
    "\n",
    "# Calculate the z-score\n",
    "z_score = (conversion_rate_B - conversion_rate_A) / np.sqrt(se_A**2 + se_B**2)\n",
    "\n",
    "# Print the z-score\n",
    "print(\"Z-score:\", z_score)\n",
    "\n",
    "# Compare the z-score to the critical value for a 95% confidence level (1.96)\n",
    "if np.abs(z_score) > 1.96:\n",
    "    print(\"The difference is statistically significant.\")\n",
    "else:\n",
    "    print(\"The difference is not statistically significant.\")\n",
    "\n",
    "# Determine which version is better\n",
    "if conversion_rate_B > conversion_rate_A:\n",
    "    print(\"Version B is better.\")\n",
    "elif conversion_rate_A > conversion_rate_B:\n",
    "    print(\"Version A is better.\")\n",
    "else:\n",
    "    print(\"There is no significant difference between the versions.\")\n"
   ]
  },
  {
   "cell_type": "code",
   "execution_count": null,
   "metadata": {},
   "outputs": [],
   "source": [
    "abs()"
   ]
  }
 ],
 "metadata": {
  "kernelspec": {
   "display_name": "Python 3",
   "language": "python",
   "name": "python3"
  },
  "language_info": {
   "codemirror_mode": {
    "name": "ipython",
    "version": 3
   },
   "file_extension": ".py",
   "mimetype": "text/x-python",
   "name": "python",
   "nbconvert_exporter": "python",
   "pygments_lexer": "ipython3",
   "version": "3.7.3"
  }
 },
 "nbformat": 4,
 "nbformat_minor": 2
}
